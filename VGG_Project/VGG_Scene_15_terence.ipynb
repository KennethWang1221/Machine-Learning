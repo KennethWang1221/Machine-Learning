{
 "cells": [
  {
   "cell_type": "markdown",
   "metadata": {},
   "source": [
    "# Loading the 15-Scene dataset"
   ]
  },
  {
   "cell_type": "code",
   "execution_count": null,
   "metadata": {
    "_cell_guid": "79c7e3d0-c299-4dcb-8224-4455121ee9b0",
    "_uuid": "d629ff2d2480ee46fbb7e2d37f6b5fab8052498a"
   },
   "outputs": [],
   "source": [
    "import numpy as np\n",
    "import os\n",
    "import cv2\n",
    "import keras\n",
    "from sklearn.cross_validation import train_test_split\n",
    "\n",
    "dim = 224\n",
    "num_classes = 15\n",
    "maxepoches = 30\n",
    "batch_size = 50\n",
    "channel = 3 \n",
    "\n",
    "DATASET_PATH = '/home/ychow/Documents/Course/Machine learning/Assignment5/15-Scene/'\n",
    "one_hot_lookup = np.eye(num_classes)\n",
    "\n",
    "temp_x = []\n",
    "temp_y = []\n",
    "test_x = []\n",
    "test_y = []\n",
    "train_x = []\n",
    "train_y = []\n",
    "\n",
    "os.chdir(DATASET_PATH)\n",
    "folders = os.listdir()  #List different 15 classes\n",
    "print(folders)\n",
    "for folder in range(len(folders)):\n",
    "    folder_paths = DATASET_PATH +str(folders[folder])+str('/')\n",
    "    os.chdir(folder_paths)\n",
    "    image_in_folder = os.listdir()\n",
    "    for image in range(len(image_in_folder)):\n",
    "        img = cv2.imread(image_in_folder[image],0)\n",
    "        img = cv2.resize(img, (dim,dim))\n",
    "        temp_x.append(np.reshape(img, (dim*dim)))\n",
    "        temp_y.append(np.reshape(one_hot_lookup[int(folder)], [num_classes]))   \n",
    "    temp_x = np.array(temp_x)\n",
    "    temp_y = np.array(temp_y)\n",
    "    p = np.random.permutation(len(temp_x))\n",
    "    temp_x = temp_x[p]\n",
    "    temp_y = temp_y[p]\n",
    "    \n",
    "    train_x.extend(temp_x[:100])\n",
    "    train_y.extend(temp_y[:100])\n",
    "    test_x.extend(temp_x[100:])\n",
    "    test_y.extend(temp_y[100:])    \n",
    "    \n",
    "    temp_x = []\n",
    "    temp_y = []\n",
    "\n",
    "train_x = np.array(train_x)\n",
    "train_y = np.array(train_y)\n",
    "test_x = np.array(test_x)\n",
    "test_y = np.array(test_y)    \n",
    "\n",
    "# Shuffle the training data with the sequence train_x\n",
    "p_train = np.random.permutation(len(train_x))\n",
    "train_x = train_x[p_train]\n",
    "train_y = train_y[p_train]\n",
    "\n",
    "# Shuffle the testing data with the sequence test_x\n",
    "p_test = np.random.permutation(len(test_x))\n",
    "test_x = test_x[p_test]\n",
    "test_y = test_y[p_test]\n",
    "\n",
    "# dataset_x = []\n",
    "# dataset_y = []\n",
    "\n",
    "# counter = 0\n",
    "# for category in sorted(os.listdir(DATASET_PATH)):\n",
    "\n",
    "#     for fname in os.listdir(DATASET_PATH+\"/\"+category):\n",
    "#         counter = counter+1\n",
    "#         img = cv2.imread(DATASET_PATH+\"/\"+category+'/'+fname, 2)\n",
    "#         img = cv2.cvtColor(cv2.resize(img, (dim,dim)), cv2.COLOR_GRAY2BGR)\n",
    "        \n",
    "#         dataset_x.append(np.reshape(img, [dim,dim,channel]))\n",
    "#         dataset_y.append(np.reshape(one_hot_lookup[int(category)], [num_classes]))\n",
    "#     print(\"this is counter: \" + str(counter))\n",
    "\n",
    "\n",
    "# dataset_x = np.array(dataset_x)\n",
    "# dataset_y = np.array(dataset_y)\n",
    "\n",
    "# # \"\"\"shuffle dataset\"\"\"\n",
    "# p = np.random.permutation(len(dataset_x))\n",
    "# dataset_x = dataset_x[p]\n",
    "# dataset_y = dataset_y[p]\n",
    "        \n",
    "# test_x = dataset_x[:int(len(dataset_x)/10)]\n",
    "# test_y = dataset_y[:int(len(dataset_x)/10)]\n",
    "# train_x = dataset_x[int(len(dataset_x)/10):]\n",
    "# train_y = dataset_y[int(len(dataset_x)/10):]\n",
    "\n",
    "# train_y2 = keras.utils.to_categorical(train_y).astype('float32')\n",
    "# test_y2 = keras.utils.to_categorical(test_y).astype('float32')\n"
   ]
  },
  {
   "cell_type": "markdown",
   "metadata": {},
   "source": [
    "For normalize the image data to a range from 0 to 1"
   ]
  },
  {
   "cell_type": "code",
   "execution_count": null,
   "metadata": {},
   "outputs": [],
   "source": [
    "train_x = train_x/255\n",
    "test_x = test_x/255"
   ]
  },
  {
   "cell_type": "markdown",
   "metadata": {},
   "source": [
    "# Save the training and testing data into csv"
   ]
  },
  {
   "cell_type": "code",
   "execution_count": null,
   "metadata": {},
   "outputs": [],
   "source": [
    "import numpy as np\n",
    "import pandas as pd\n",
    "\n",
    "train_total = np.concatenate((train_x, train_y), axis=1)\n",
    "test_total = np.concatenate((test_x, test_y), axis=1)\n",
    "df_train = pd.DataFrame(train_total)\n",
    "df_test = pd.DataFrame(test_total)"
   ]
  },
  {
   "cell_type": "code",
   "execution_count": null,
   "metadata": {},
   "outputs": [],
   "source": [
    "df_train.to_csv('/home/ychow/Documents/Course/Machine learning/Assignment5/trainData.csv')"
   ]
  },
  {
   "cell_type": "code",
   "execution_count": null,
   "metadata": {},
   "outputs": [],
   "source": [
    "import os\n",
    "# The GPU id to use, usually either \"0\" or \"1\";\n",
    "os.environ[\"CUDA_VISIBLE_DEVICES\"]=\"0\";  "
   ]
  },
  {
   "cell_type": "code",
   "execution_count": null,
   "metadata": {},
   "outputs": [],
   "source": [
    "df_test.to_csv('/home/ychow/Documents/Course/Machine learning/Assignment5/testData.csv')"
   ]
  },
  {
   "cell_type": "code",
   "execution_count": null,
   "metadata": {
    "scrolled": true
   },
   "outputs": [],
   "source": [
    "print(train_x.shape)\n",
    "print(train_y.shape)\n",
    "print(train_total.shape)\n",
    "print(test_total.shape)"
   ]
  },
  {
   "cell_type": "markdown",
   "metadata": {},
   "source": [
    "# Load the training and testing data from csv"
   ]
  },
  {
   "cell_type": "code",
   "execution_count": 1,
   "metadata": {},
   "outputs": [],
   "source": [
    "import numpy as np\n",
    "import pandas as pd\n",
    "\n",
    "train = pd.read_csv('/home/ychow/Documents/Course/Machine learning/Assignment5/trainData.csv', index_col=None)\n"
   ]
  },
  {
   "cell_type": "code",
   "execution_count": 2,
   "metadata": {},
   "outputs": [
    {
     "data": {
      "text/plain": [
       "(1500, 50191)"
      ]
     },
     "execution_count": 2,
     "metadata": {},
     "output_type": "execute_result"
    }
   ],
   "source": [
    "train_try = train[train.columns[1:]].copy()\n",
    "train_try.shape"
   ]
  },
  {
   "cell_type": "code",
   "execution_count": 3,
   "metadata": {},
   "outputs": [
    {
     "data": {
      "text/plain": [
       "(1500, 15)"
      ]
     },
     "execution_count": 3,
     "metadata": {},
     "output_type": "execute_result"
    }
   ],
   "source": [
    "# For the training label\n",
    "train_label = train_try[train_try.columns[-15:]].copy()\n",
    "train_label.shape"
   ]
  },
  {
   "cell_type": "code",
   "execution_count": 4,
   "metadata": {},
   "outputs": [
    {
     "data": {
      "text/plain": [
       "(1500, 50176)"
      ]
     },
     "execution_count": 4,
     "metadata": {},
     "output_type": "execute_result"
    }
   ],
   "source": [
    "# For the training data\n",
    "train_x = train_try[train_try.columns[:-15]].copy()\n",
    "train_x.shape"
   ]
  },
  {
   "cell_type": "code",
   "execution_count": 5,
   "metadata": {},
   "outputs": [],
   "source": [
    "# train_x = train.values\n",
    "# # train_label = train[train.columns[:-15]].copy()"
   ]
  },
  {
   "cell_type": "code",
   "execution_count": 6,
   "metadata": {},
   "outputs": [],
   "source": [
    "test = pd.read_csv('/home/ychow/Documents/Course/Machine learning/Assignment5/testData.csv', index_col=None)"
   ]
  },
  {
   "cell_type": "code",
   "execution_count": 7,
   "metadata": {},
   "outputs": [
    {
     "data": {
      "text/plain": [
       "(2985, 50191)"
      ]
     },
     "execution_count": 7,
     "metadata": {},
     "output_type": "execute_result"
    }
   ],
   "source": [
    "test_try = test[test.columns[1:]].copy()\n",
    "test_try.shape"
   ]
  },
  {
   "cell_type": "code",
   "execution_count": 8,
   "metadata": {},
   "outputs": [
    {
     "data": {
      "text/plain": [
       "(2985, 15)"
      ]
     },
     "execution_count": 8,
     "metadata": {},
     "output_type": "execute_result"
    }
   ],
   "source": [
    "# For the testing label\n",
    "test_label = test_try[test_try.columns[-15:]].copy()\n",
    "test_label.shape"
   ]
  },
  {
   "cell_type": "code",
   "execution_count": 9,
   "metadata": {},
   "outputs": [
    {
     "data": {
      "text/plain": [
       "(2985, 50176)"
      ]
     },
     "execution_count": 9,
     "metadata": {},
     "output_type": "execute_result"
    }
   ],
   "source": [
    "# For the testing data\n",
    "test_x = test_try[test_try.columns[:-15]].copy()\n",
    "test_x.shape"
   ]
  },
  {
   "cell_type": "code",
   "execution_count": 10,
   "metadata": {},
   "outputs": [],
   "source": [
    "del test_try\n",
    "del test\n",
    "del train\n",
    "del train_try\n"
   ]
  },
  {
   "cell_type": "code",
   "execution_count": 12,
   "metadata": {},
   "outputs": [],
   "source": [
    "train_x = train_x.values"
   ]
  },
  {
   "cell_type": "code",
   "execution_count": 17,
   "metadata": {},
   "outputs": [
    {
     "data": {
      "text/plain": [
       "(1500, 50176)"
      ]
     },
     "execution_count": 17,
     "metadata": {},
     "output_type": "execute_result"
    }
   ],
   "source": [
    "(train_x.shape)"
   ]
  },
  {
   "cell_type": "code",
   "execution_count": 18,
   "metadata": {},
   "outputs": [],
   "source": [
    "train_x_ar = np.reshape(train_x, (train_x.shape[0], 224, 224))"
   ]
  },
  {
   "cell_type": "code",
   "execution_count": 31,
   "metadata": {},
   "outputs": [
    {
     "ename": "error",
     "evalue": "OpenCV(4.1.1) /io/opencv/modules/imgproc/src/color.simd_helpers.hpp:94: error: (-2:Unspecified error) in function 'cv::impl::{anonymous}::CvtHelper<VScn, VDcn, VDepth, sizePolicy>::CvtHelper(cv::InputArray, cv::OutputArray, int) [with VScn = cv::impl::{anonymous}::Set<1>; VDcn = cv::impl::{anonymous}::Set<3, 4>; VDepth = cv::impl::{anonymous}::Set<0, 2, 5>; cv::impl::{anonymous}::SizePolicy sizePolicy = (cv::impl::<unnamed>::SizePolicy)2u; cv::InputArray = const cv::_InputArray&; cv::OutputArray = const cv::_OutputArray&]'\n> Unsupported depth of input image:\n>     'VDepth::contains(depth)'\n> where\n>     'depth' is 6 (CV_64F)\n",
     "output_type": "error",
     "traceback": [
      "\u001b[0;31m---------------------------------------------------------------------------\u001b[0m",
      "\u001b[0;31merror\u001b[0m                                     Traceback (most recent call last)",
      "\u001b[0;32m<ipython-input-31-e0f5c4012eea>\u001b[0m in \u001b[0;36m<module>\u001b[0;34m\u001b[0m\n\u001b[1;32m      1\u001b[0m \u001b[0;32mimport\u001b[0m \u001b[0mcv2\u001b[0m\u001b[0;34m\u001b[0m\u001b[0;34m\u001b[0m\u001b[0m\n\u001b[1;32m      2\u001b[0m \u001b[0;32mfor\u001b[0m \u001b[0mi\u001b[0m \u001b[0;32min\u001b[0m \u001b[0mrange\u001b[0m \u001b[0;34m(\u001b[0m\u001b[0mlen\u001b[0m\u001b[0;34m(\u001b[0m\u001b[0mtrain_x_ar\u001b[0m\u001b[0;34m)\u001b[0m\u001b[0;34m)\u001b[0m\u001b[0;34m:\u001b[0m\u001b[0;34m\u001b[0m\u001b[0;34m\u001b[0m\u001b[0m\n\u001b[0;32m----> 3\u001b[0;31m     \u001b[0mtrain_x_ar\u001b[0m \u001b[0;34m=\u001b[0m \u001b[0mcv2\u001b[0m\u001b[0;34m.\u001b[0m\u001b[0mcvtColor\u001b[0m\u001b[0;34m(\u001b[0m\u001b[0mtrain_x_ar\u001b[0m\u001b[0;34m[\u001b[0m\u001b[0mi\u001b[0m\u001b[0;34m]\u001b[0m\u001b[0;34m,\u001b[0m \u001b[0mcv2\u001b[0m\u001b[0;34m.\u001b[0m\u001b[0mCOLOR_GRAY2BGR\u001b[0m\u001b[0;34m)\u001b[0m\u001b[0;34m\u001b[0m\u001b[0;34m\u001b[0m\u001b[0m\n\u001b[0m",
      "\u001b[0;31merror\u001b[0m: OpenCV(4.1.1) /io/opencv/modules/imgproc/src/color.simd_helpers.hpp:94: error: (-2:Unspecified error) in function 'cv::impl::{anonymous}::CvtHelper<VScn, VDcn, VDepth, sizePolicy>::CvtHelper(cv::InputArray, cv::OutputArray, int) [with VScn = cv::impl::{anonymous}::Set<1>; VDcn = cv::impl::{anonymous}::Set<3, 4>; VDepth = cv::impl::{anonymous}::Set<0, 2, 5>; cv::impl::{anonymous}::SizePolicy sizePolicy = (cv::impl::<unnamed>::SizePolicy)2u; cv::InputArray = const cv::_InputArray&; cv::OutputArray = const cv::_OutputArray&]'\n> Unsupported depth of input image:\n>     'VDepth::contains(depth)'\n> where\n>     'depth' is 6 (CV_64F)\n"
     ]
    }
   ],
   "source": [
    "import cv2\n",
    "for i in range (len(train_x_ar)):\n",
    "    train_x_ar = cv2.cvtColor(train_x_ar[i], cv2.COLOR_GRAY2BGR) \n"
   ]
  },
  {
   "cell_type": "code",
   "execution_count": 19,
   "metadata": {},
   "outputs": [
    {
     "data": {
      "text/plain": [
       "(1500, 224, 224)"
      ]
     },
     "execution_count": 19,
     "metadata": {},
     "output_type": "execute_result"
    }
   ],
   "source": [
    "train_x_ar.shape"
   ]
  },
  {
   "cell_type": "markdown",
   "metadata": {},
   "source": [
    "# Transfer Learning"
   ]
  },
  {
   "cell_type": "code",
   "execution_count": null,
   "metadata": {},
   "outputs": [],
   "source": [
    "import os\n",
    "# The GPU id to use, usually either \"0\" or \"1\";\n",
    "os.environ[\"CUDA_VISIBLE_DEVICES\"]=\"2\";  \n",
    " \n",
    "# Do other imports now...\n",
    "import keras\n",
    "\n",
    "from keras.models import Model\n",
    "from keras.layers import Dense,Flatten,Dropout\n",
    "from keras import datasets\n",
    "from keras.applications.vgg16 import VGG16"
   ]
  },
  {
   "cell_type": "code",
   "execution_count": null,
   "metadata": {},
   "outputs": [],
   "source": [
    "pretrain_model_vgg = VGG16(include_top=False, weights='imagenet', input_shape=(dim, dim, channel))\n",
    "\n",
    "for layer in pretrain_model_vgg.layers:\n",
    "    layer.trainable = False\n",
    "    \n",
    "model = Flatten()(pretrain_model_vgg.output)\n",
    "model = Dense(4096, activation=\"relu\")(model)\n",
    "model = Dense(1000, activation=\"relu\")(model)\n",
    "model = Dropout(0.3)(model)\n",
    "model = Dense(num_classes, activation=\"softmax\")(model)\n",
    "pretrain_model = Model(pretrain_model_vgg.input, model, name='pretrain_vgg_16')\n",
    "pretrain_model.summary()"
   ]
  },
  {
   "cell_type": "code",
   "execution_count": null,
   "metadata": {},
   "outputs": [],
   "source": [
    "from keras.optimizers import SGD, Adam\n",
    "learning_rate = 0.05\n",
    "EPO = 9\n",
    "decay_rate = learning_rate / EPO\n",
    "momentum = 0.9\n",
    "sgd = SGD(lr=learning_rate, momentum=momentum, decay=decay_rate, nesterov=False)\n",
    "# sgd=SGD(lr=0.05,decay=1e-5)\n",
    "opt= Adam(lr=0.01)\n",
    "pretrain_model.compile(loss='mean_squared_error',optimizer=sgd,metrics = ['accuracy'])"
   ]
  },
  {
   "cell_type": "code",
   "execution_count": null,
   "metadata": {},
   "outputs": [],
   "source": [
    "hist = pretrain_model.fit(train_x, train_y, validation_data = (test_x, test_y), epochs = EPO, batch_size = 10)"
   ]
  },
  {
   "cell_type": "code",
   "execution_count": null,
   "metadata": {},
   "outputs": [],
   "source": [
    "score = pretrain_model.evaluate(test_x, test_y)\n",
    "print(\"Training Accuracy: %.2f%%\" % (hist.history['accuracy'][EPO - 1]*100))\n",
    "print(\"Testing Accuracy: %.2f%%\" % (score[1]*100))"
   ]
  },
  {
   "cell_type": "code",
   "execution_count": null,
   "metadata": {},
   "outputs": [],
   "source": [
    "import matplotlib.pyplot as plt\n",
    "\n",
    "plt.plot(hist.history['loss'])\n",
    "plt.plot(hist.history['val_loss'])\n",
    "plt.legend(['train','test'])\n",
    "plt.title('loss')\n",
    "plt.savefig(\"loss7.png\",dpi=300,format=\"png\")\n",
    "plt.figure()\n",
    "plt.plot(hist.history['accuracy'])\n",
    "plt.plot(hist.history['val_accuracy'])\n",
    "plt.legend(['train','test'])\n",
    "plt.title('accuracy')\n",
    "plt.savefig(\"accuracy7.png\",dpi=300,format=\"png\")\n",
    "model_json = pretrain_model.to_json()\n",
    "with open(\"model7.json\", \"w\") as json_file:\n",
    "    json_file.write(model_json)\n",
    "# serialize weights to HDF5\n",
    "pretrain_model.save_weights(\"model7.h5\")\n",
    "print(\"Saved model to disk\")"
   ]
  },
  {
   "cell_type": "markdown",
   "metadata": {},
   "source": [
    "# Training From Scratch"
   ]
  },
  {
   "cell_type": "code",
   "execution_count": null,
   "metadata": {},
   "outputs": [],
   "source": [
    "model_vgg_scratch = VGG16(include_top=False, input_shape=(dim, dim, channel), weights=None)\n",
    "\n",
    "for layer in model_vgg_scratch.layers:\n",
    "    layer.trainable = True\n",
    "    \n",
    "scratch_model = Flatten()(model_vgg_scratch.output)\n",
    "scratch_model = Dense(4096, activation=\"relu\")(scratch_model)\n",
    "scratch_model = Dropout(0.5)(scratch_model)\n",
    "scratch_model = Dense(num_classes, activation=\"softmax\")(scratch_model)\n",
    "scratch_model = Model(model_vgg_scratch.input, scratch_model, name='scratch_vgg_16')\n",
    "scratch_model.summary()"
   ]
  },
  {
   "cell_type": "code",
   "execution_count": null,
   "metadata": {},
   "outputs": [],
   "source": [
    "from keras.optimizers import SGD, Adam\n",
    "learning_rate = 0.01\n",
    "EPO_scratch = 5\n",
    "decay_rate = learning_rate / EPO_scratch\n",
    "momentum = 0.7\n",
    "sgd = SGD(lr=learning_rate, momentum=momentum, decay=decay_rate, nesterov=False)\n",
    "# sgd=SGD(lr=0.01,decay=1e-5)\n",
    "opt= Adam(lr=0.01)\n",
    "scratch_model.compile(loss='mean_squared_error',optimizer=sgd,metrics = ['accuracy'])"
   ]
  },
  {
   "cell_type": "code",
   "execution_count": null,
   "metadata": {},
   "outputs": [],
   "source": [
    "hist_scratch = scratch_model.fit(train_x, train_y, validation_data = (test_x, test_y), epochs = EPO_scratch, batch_size = 32)"
   ]
  },
  {
   "cell_type": "code",
   "execution_count": null,
   "metadata": {},
   "outputs": [],
   "source": [
    "score_scratch = scratch_model.evaluate(test_x, test_y)\n",
    "print(\"Training Accuracy: %.2f%%\" % (hist_scratch.history['accuracy'][EPO_scratch - 1]*100))\n",
    "print(\"Testing Accuracy: %.2f%%\" % (score_scratch[1]*100))"
   ]
  },
  {
   "cell_type": "code",
   "execution_count": null,
   "metadata": {},
   "outputs": [],
   "source": []
  }
 ],
 "metadata": {
  "kernelspec": {
   "display_name": "Python 3",
   "language": "python",
   "name": "python3"
  },
  "language_info": {
   "codemirror_mode": {
    "name": "ipython",
    "version": 3
   },
   "file_extension": ".py",
   "mimetype": "text/x-python",
   "name": "python",
   "nbconvert_exporter": "python",
   "pygments_lexer": "ipython3",
   "version": "3.6.7"
  }
 },
 "nbformat": 4,
 "nbformat_minor": 1
}
