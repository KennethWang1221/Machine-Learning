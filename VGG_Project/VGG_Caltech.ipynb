{
 "cells": [
  {
   "cell_type": "code",
   "execution_count": 1,
   "metadata": {
    "colab": {
     "base_uri": "https://localhost:8080/",
     "height": 54
    },
    "colab_type": "code",
    "id": "Qix4r3hDwUe9",
    "outputId": "d38950e8-87fb-4f1f-a709-81dae5cd7881"
   },
   "outputs": [
    {
     "name": "stdout",
     "output_type": "stream",
     "text": [
      "Drive already mounted at /content/drive; to attempt to forcibly remount, call drive.mount(\"/content/drive\", force_remount=True).\n"
     ]
    }
   ],
   "source": [
    "from google.colab import drive\n",
    "drive.mount('/content/drive')"
   ]
  },
  {
   "cell_type": "markdown",
   "metadata": {
    "colab_type": "text",
    "id": "PpmQMIEgAOZP"
   },
   "source": [
    "**This is an interesting task, I have experienced a lot, including writing code with colab, because the caltech256 data set is particularly large, split it into four 4GB files by pickle, and then to shorten the time of each raw data read, first time When reading, the data is saved to a CSV file, so that when the program is tested later, it can be read directly from the CSV file, but the CSV file is particularly large, and the x_train.csv file size is 16 GB, which directly causes the RAM to explode, and then more I tried to directly read the data in the pickle file, split it into the train and test parts, and finally run the program. The RAM usage is 25.33GB, and the total RAM is only 25.51GB. And because of the excessive use of colab GPU resources, Google has blocked the account. But in the end, after asking classmates and Dr.yang, as well as online to find a solution, finally successfully used the VGG16 to train the caltech256 data set.**"
   ]
  },
  {
   "cell_type": "markdown",
   "metadata": {},
   "source": [
    "# There are two parts : the first one is training from scratch the accuracy is 24% the second one is training from pre-trained the accuracy is 55.7%"
   ]
  },
  {
   "cell_type": "code",
   "execution_count": 6,
   "metadata": {
    "colab": {
     "base_uri": "https://localhost:8080/",
     "height": 306
    },
    "colab_type": "code",
    "id": "C-coB6GXCweC",
    "outputId": "8b8416ba-df17-4739-969c-2169981b07b0"
   },
   "outputs": [
    {
     "name": "stdout",
     "output_type": "stream",
     "text": [
      "Sun Nov 10 22:24:40 2019       \n",
      "+-----------------------------------------------------------------------------+\n",
      "| NVIDIA-SMI 418.67       Driver Version: 418.67       CUDA Version: 10.1     |\n",
      "|-------------------------------+----------------------+----------------------+\n",
      "| GPU  Name        Persistence-M| Bus-Id        Disp.A | Volatile Uncorr. ECC |\n",
      "| Fan  Temp  Perf  Pwr:Usage/Cap|         Memory-Usage | GPU-Util  Compute M. |\n",
      "|===============================+======================+======================|\n",
      "|   0  Tesla P100-PCIE...  Off  | 00000000:00:04.0 Off |                    0 |\n",
      "| N/A   34C    P0    25W / 250W |      0MiB / 16280MiB |      0%      Default |\n",
      "+-------------------------------+----------------------+----------------------+\n",
      "                                                                               \n",
      "+-----------------------------------------------------------------------------+\n",
      "| Processes:                                                       GPU Memory |\n",
      "|  GPU       PID   Type   Process name                             Usage      |\n",
      "|=============================================================================|\n",
      "|  No running processes found                                                 |\n",
      "+-----------------------------------------------------------------------------+\n"
     ]
    }
   ],
   "source": [
    "!/opt/bin/nvidia-smi"
   ]
  },
  {
   "cell_type": "markdown",
   "metadata": {
    "colab_type": "text",
    "id": "vBx5Av3z11YG"
   },
   "source": [
    "# **Load the dataset from pickle file**"
   ]
  },
  {
   "cell_type": "markdown",
   "metadata": {
    "colab_type": "text",
    "id": "JgQPIzr12KN3"
   },
   "source": [
    "By  http://places2.csail.mit.edu/PAMI_places  (given by Dr.yang)and reference code ,learning the method to generate the training and testing dataset."
   ]
  },
  {
   "cell_type": "code",
   "execution_count": 0,
   "metadata": {
    "colab": {},
    "colab_type": "code",
    "id": "rEOiNzPuwkoR"
   },
   "outputs": [],
   "source": [
    "import os\n",
    "import numpy as np\n",
    "import pandas as pd\n",
    "import matplotlib.pyplot as plt\n",
    "import tarfile\n",
    "import cv2\n",
    "import pickle\n",
    "%matplotlib inline\n",
    "import tarfile\n",
    "%matplotlib inline"
   ]
  },
  {
   "cell_type": "markdown",
   "metadata": {
    "colab_type": "text",
    "id": "T-dIfTDn2PHj"
   },
   "source": [
    "load the picklepath from google drive"
   ]
  },
  {
   "cell_type": "code",
   "execution_count": 0,
   "metadata": {
    "colab": {},
    "colab_type": "code",
    "id": "wuofoWbnwyQY"
   },
   "outputs": [],
   "source": [
    "import os\n",
    "picklepath ='/content/drive/My Drive/Colab Notebooks/VGG16_Practice/pickle'\n",
    "os.chdir(picklepath)"
   ]
  },
  {
   "cell_type": "markdown",
   "metadata": {
    "colab_type": "text",
    "id": "pYS_F3cm2Wvk"
   },
   "source": [
    "Using data_process.ipnyb divide data to four pickle file , so I should load those file"
   ]
  },
  {
   "cell_type": "code",
   "execution_count": 0,
   "metadata": {
    "colab": {},
    "colab_type": "code",
    "id": "bKGtdD3MoOME"
   },
   "outputs": [],
   "source": [
    "import pickle\n",
    "pickle_in = open(\"pickle_all_images_df1.pickle\",\"rb\")\n",
    "all_images_df1 = pickle.load(pickle_in)"
   ]
  },
  {
   "cell_type": "code",
   "execution_count": 0,
   "metadata": {
    "colab": {},
    "colab_type": "code",
    "id": "-disJqFGo8Lh"
   },
   "outputs": [],
   "source": [
    "pickle_in = open(\"pickle_all_images_df2.pickle\",\"rb\")\n",
    "all_images_df2 = pickle.load(pickle_in)"
   ]
  },
  {
   "cell_type": "code",
   "execution_count": 0,
   "metadata": {
    "colab": {},
    "colab_type": "code",
    "id": "GTFZIiWmo8EM"
   },
   "outputs": [],
   "source": [
    "pickle_in = open(\"pickle_all_images_df3.pickle\",\"rb\")\n",
    "all_images_df3 = pickle.load(pickle_in)"
   ]
  },
  {
   "cell_type": "code",
   "execution_count": 0,
   "metadata": {
    "colab": {},
    "colab_type": "code",
    "id": "Ou95mG-Yp0AC"
   },
   "outputs": [],
   "source": [
    "pickle_in = open(\"pickle_all_classes.pickle\",\"rb\")\n",
    "all_classes = pickle.load(pickle_in)"
   ]
  },
  {
   "cell_type": "markdown",
   "metadata": {
    "colab_type": "text",
    "id": "Brdi9ZCD2vx0"
   },
   "source": [
    "set the img size is 128"
   ]
  },
  {
   "cell_type": "code",
   "execution_count": 0,
   "metadata": {
    "colab": {},
    "colab_type": "code",
    "id": "vPj2pnhJsRlu"
   },
   "outputs": [],
   "source": [
    "img_size = 128"
   ]
  },
  {
   "cell_type": "markdown",
   "metadata": {
    "colab_type": "text",
    "id": "iO4tDGU03Yms"
   },
   "source": [
    "concatenate those four array together"
   ]
  },
  {
   "cell_type": "code",
   "execution_count": 0,
   "metadata": {
    "colab": {},
    "colab_type": "code",
    "id": "E1RY-bQEsRlx"
   },
   "outputs": [],
   "source": [
    "all_images = np.concatenate((all_images_df1, all_images_df2,all_images_df3), axis=0)"
   ]
  },
  {
   "cell_type": "code",
   "execution_count": 10,
   "metadata": {
    "colab": {
     "base_uri": "https://localhost:8080/",
     "height": 34
    },
    "colab_type": "code",
    "id": "D0E9yqdJrwt7",
    "outputId": "afe9b051-bd14-4789-f9ab-25241edc42a4"
   },
   "outputs": [
    {
     "data": {
      "text/plain": [
       "(30607, 49152)"
      ]
     },
     "execution_count": 10,
     "metadata": {
      "tags": []
     },
     "output_type": "execute_result"
    }
   ],
   "source": [
    "all_images.shape"
   ]
  },
  {
   "cell_type": "markdown",
   "metadata": {
    "colab_type": "text",
    "id": "xevDge3Q3pDg"
   },
   "source": [
    "del those pre-data, in order to release RAM"
   ]
  },
  {
   "cell_type": "code",
   "execution_count": 0,
   "metadata": {
    "colab": {},
    "colab_type": "code",
    "id": "IhY9ecshsRly"
   },
   "outputs": [],
   "source": [
    "del all_images_df1\n",
    "del all_images_df2\n",
    "del all_images_df3"
   ]
  },
  {
   "cell_type": "code",
   "execution_count": 12,
   "metadata": {
    "colab": {
     "base_uri": "https://localhost:8080/",
     "height": 34
    },
    "colab_type": "code",
    "id": "BuggLBXAuSf-",
    "outputId": "b7b4a049-fefd-4c4b-bd50-b7ba5f881861"
   },
   "outputs": [
    {
     "data": {
      "text/plain": [
       "(30607, 49152)"
      ]
     },
     "execution_count": 12,
     "metadata": {
      "tags": []
     },
     "output_type": "execute_result"
    }
   ],
   "source": [
    "all_images.shape"
   ]
  },
  {
   "cell_type": "code",
   "execution_count": 0,
   "metadata": {
    "colab": {},
    "colab_type": "code",
    "id": "s9GM1R4_sRl0"
   },
   "outputs": [],
   "source": [
    "all_images.shape"
   ]
  },
  {
   "cell_type": "code",
   "execution_count": 0,
   "metadata": {
    "colab": {},
    "colab_type": "code",
    "id": "R14fm2cysRlw"
   },
   "outputs": [],
   "source": [
    "# train_total = np.concatenate((train_x, train_y), axis=1)\n",
    "# test_total = np.concatenate((test_x, test_y), axis=1)\n",
    "# df_train = pd.DataFrame(train_total)\n",
    "# df_test = pd.DataFrame(test_total)"
   ]
  },
  {
   "cell_type": "markdown",
   "metadata": {
    "colab_type": "text",
    "id": "YYXyQTDe4E4B"
   },
   "source": [
    "using pandas to implement one hot encode"
   ]
  },
  {
   "cell_type": "code",
   "execution_count": 0,
   "metadata": {
    "colab": {},
    "colab_type": "code",
    "id": "5c9lWyHGsRl1"
   },
   "outputs": [],
   "source": [
    "all_classes = pd.get_dummies(all_classes) \n"
   ]
  },
  {
   "cell_type": "code",
   "execution_count": 14,
   "metadata": {
    "colab": {
     "base_uri": "https://localhost:8080/",
     "height": 34
    },
    "colab_type": "code",
    "id": "lr_fEeMkr-ap",
    "outputId": "b5a30862-f103-4e99-8aed-5c58ea4aeff5"
   },
   "outputs": [
    {
     "data": {
      "text/plain": [
       "(30607, 257)"
      ]
     },
     "execution_count": 14,
     "metadata": {
      "tags": []
     },
     "output_type": "execute_result"
    }
   ],
   "source": [
    "all_classes.shape"
   ]
  },
  {
   "cell_type": "code",
   "execution_count": 0,
   "metadata": {
    "colab": {},
    "colab_type": "code",
    "id": "BMYhWEg_r-PA"
   },
   "outputs": [],
   "source": [
    "all_images = np.array(all_images)"
   ]
  },
  {
   "cell_type": "code",
   "execution_count": 16,
   "metadata": {
    "colab": {
     "base_uri": "https://localhost:8080/",
     "height": 34
    },
    "colab_type": "code",
    "id": "eU9BaBcJsG91",
    "outputId": "17f7b105-0cb4-45bf-96db-f9ce80264733"
   },
   "outputs": [
    {
     "data": {
      "text/plain": [
       "(30607, 49152)"
      ]
     },
     "execution_count": 16,
     "metadata": {
      "tags": []
     },
     "output_type": "execute_result"
    }
   ],
   "source": [
    "all_images.shape"
   ]
  },
  {
   "cell_type": "markdown",
   "metadata": {
    "colab_type": "text",
    "id": "Jr2LPxAv4LYG"
   },
   "source": [
    "split all_images to X_train part and X_test part. split all_classes to y_train part and y_test part"
   ]
  },
  {
   "cell_type": "code",
   "execution_count": 0,
   "metadata": {
    "colab": {},
    "colab_type": "code",
    "id": "3S0y_2MQsRl2"
   },
   "outputs": [],
   "source": [
    "from sklearn.model_selection import train_test_split\n",
    "X_train, X_test, y_train, y_test = train_test_split(all_images, all_classes, test_size=0.1)"
   ]
  },
  {
   "cell_type": "code",
   "execution_count": 19,
   "metadata": {
    "colab": {
     "base_uri": "https://localhost:8080/",
     "height": 34
    },
    "colab_type": "code",
    "id": "Lm7fjq2PxN4S",
    "outputId": "c190924f-ae00-4725-816d-0d75f8d5fbd8"
   },
   "outputs": [
    {
     "data": {
      "text/plain": [
       "(27546, 49152)"
      ]
     },
     "execution_count": 19,
     "metadata": {
      "tags": []
     },
     "output_type": "execute_result"
    }
   ],
   "source": [
    "X_train.shape"
   ]
  },
  {
   "cell_type": "code",
   "execution_count": 15,
   "metadata": {
    "colab": {
     "base_uri": "https://localhost:8080/",
     "height": 34
    },
    "colab_type": "code",
    "id": "9kQXAL6a0zOD",
    "outputId": "81d3a3d7-8f8b-4915-f685-26443a2d1f3c"
   },
   "outputs": [
    {
     "data": {
      "text/plain": [
       "(3061, 49152)"
      ]
     },
     "execution_count": 15,
     "metadata": {
      "tags": []
     },
     "output_type": "execute_result"
    }
   ],
   "source": [
    "X_test.shape"
   ]
  },
  {
   "cell_type": "code",
   "execution_count": 23,
   "metadata": {
    "colab": {
     "base_uri": "https://localhost:8080/",
     "height": 34
    },
    "colab_type": "code",
    "id": "eqP7axUn015h",
    "outputId": "0a26d47e-e445-4c19-88f8-b2743d48f12d"
   },
   "outputs": [
    {
     "data": {
      "text/plain": [
       "(27546, 257)"
      ]
     },
     "execution_count": 23,
     "metadata": {
      "tags": []
     },
     "output_type": "execute_result"
    }
   ],
   "source": [
    "y_train.shape"
   ]
  },
  {
   "cell_type": "code",
   "execution_count": 24,
   "metadata": {
    "colab": {
     "base_uri": "https://localhost:8080/",
     "height": 34
    },
    "colab_type": "code",
    "id": "Kc6oNnDr1A6n",
    "outputId": "559ad789-d6c8-447e-9658-545d0414a934"
   },
   "outputs": [
    {
     "data": {
      "text/plain": [
       "(3061, 257)"
      ]
     },
     "execution_count": 24,
     "metadata": {
      "tags": []
     },
     "output_type": "execute_result"
    }
   ],
   "source": [
    "y_test.shape"
   ]
  },
  {
   "cell_type": "code",
   "execution_count": 0,
   "metadata": {
    "colab": {},
    "colab_type": "code",
    "id": "ghqMw38TgPHq"
   },
   "outputs": [],
   "source": [
    "X_train[0].shape"
   ]
  },
  {
   "cell_type": "markdown",
   "metadata": {
    "colab_type": "text",
    "id": "TfgdYxhS4hDk"
   },
   "source": [
    "Because using VGG16 network,so I should fit the dimension,so using reshape method to change dimension"
   ]
  },
  {
   "cell_type": "code",
   "execution_count": 0,
   "metadata": {
    "colab": {},
    "colab_type": "code",
    "id": "hfwDj_WnSDfL"
   },
   "outputs": [],
   "source": [
    "X_train = X_train.reshape(-1,img_size,img_size,3)"
   ]
  },
  {
   "cell_type": "code",
   "execution_count": 21,
   "metadata": {
    "colab": {
     "base_uri": "https://localhost:8080/",
     "height": 34
    },
    "colab_type": "code",
    "id": "bTp-A-Y1SFMw",
    "outputId": "af2f2c8e-4d38-4111-a089-22fa67ce4698"
   },
   "outputs": [
    {
     "data": {
      "text/plain": [
       "(27546, 128, 128, 3)"
      ]
     },
     "execution_count": 21,
     "metadata": {
      "tags": []
     },
     "output_type": "execute_result"
    }
   ],
   "source": [
    "X_train.shape"
   ]
  },
  {
   "cell_type": "code",
   "execution_count": 0,
   "metadata": {
    "colab": {},
    "colab_type": "code",
    "id": "iQhcdIW_SOdz"
   },
   "outputs": [],
   "source": [
    "X_test = X_test.reshape(-1,img_size,img_size,3)"
   ]
  },
  {
   "cell_type": "code",
   "execution_count": 21,
   "metadata": {
    "colab": {
     "base_uri": "https://localhost:8080/",
     "height": 34
    },
    "colab_type": "code",
    "id": "V10MQqxpSQx3",
    "outputId": "ba5dc30f-dac7-474c-f5e5-3e59475b5347"
   },
   "outputs": [
    {
     "data": {
      "text/plain": [
       "(3061, 128, 128, 3)"
      ]
     },
     "execution_count": 21,
     "metadata": {
      "tags": []
     },
     "output_type": "execute_result"
    }
   ],
   "source": [
    "X_test.shape"
   ]
  },
  {
   "cell_type": "markdown",
   "metadata": {
    "colab_type": "text",
    "id": "FWBbiNEXtKdW"
   },
   "source": [
    "# **Save X_train, X_test, y_train, y_test to CSV file**"
   ]
  },
  {
   "cell_type": "code",
   "execution_count": 0,
   "metadata": {
    "colab": {},
    "colab_type": "code",
    "id": "i8zM_3dtsRl4"
   },
   "outputs": [],
   "source": [
    "df_x_train = pd.DataFrame(X_train)\n",
    "df_x_test = pd.DataFrame(X_test)\n",
    "df_y_train = pd.DataFrame(y_train)\n",
    "df_y_test = pd.DataFrame(y_test)\n"
   ]
  },
  {
   "cell_type": "code",
   "execution_count": 0,
   "metadata": {
    "colab": {},
    "colab_type": "code",
    "id": "k0LmXUJAsRl7"
   },
   "outputs": [],
   "source": [
    "df_x_train.to_csv('/content/drive/My Drive/Colab Notebooks/VGG16_Practice/x_train.csv')"
   ]
  },
  {
   "cell_type": "code",
   "execution_count": 0,
   "metadata": {
    "colab": {},
    "colab_type": "code",
    "id": "SxDtbPx4sRl8"
   },
   "outputs": [],
   "source": [
    "df_x_test.to_csv('/content/drive/My Drive/Colab Notebooks/VGG16_Practice/x_test.csv')"
   ]
  },
  {
   "cell_type": "code",
   "execution_count": 0,
   "metadata": {
    "colab": {},
    "colab_type": "code",
    "id": "vFpK1K3IsRl-"
   },
   "outputs": [],
   "source": [
    "df_y_train.to_csv('/content/drive/My Drive/Colab Notebooks/VGG16_Practice/y_train.csv')"
   ]
  },
  {
   "cell_type": "code",
   "execution_count": 0,
   "metadata": {
    "colab": {},
    "colab_type": "code",
    "id": "pyhCB-aY4dSe"
   },
   "outputs": [],
   "source": [
    "df_y_test.to_csv('/content/drive/My Drive/Colab Notebooks/VGG16_Practice/y_test.csv')"
   ]
  },
  {
   "cell_type": "code",
   "execution_count": 0,
   "metadata": {
    "colab": {},
    "colab_type": "code",
    "id": "BdXtk0Os8pAh"
   },
   "outputs": [],
   "source": [
    "del df_x_test\n",
    "del df_y_train\n",
    "del df_y_test"
   ]
  },
  {
   "cell_type": "code",
   "execution_count": 0,
   "metadata": {
    "colab": {},
    "colab_type": "code",
    "id": "Ewh_oFBXH6Nz"
   },
   "outputs": [],
   "source": []
  },
  {
   "cell_type": "markdown",
   "metadata": {
    "colab_type": "text",
    "id": "Y6RmztMIsRmA"
   },
   "source": []
  },
  {
   "cell_type": "markdown",
   "metadata": {
    "colab_type": "text",
    "id": "DodiU1ONsRmA"
   },
   "source": [
    "# **Load train_x test_x train_y test_y from CSV**"
   ]
  },
  {
   "cell_type": "code",
   "execution_count": 0,
   "metadata": {
    "colab": {},
    "colab_type": "code",
    "id": "HV3dghvdsRmB"
   },
   "outputs": [],
   "source": [
    "import numpy as np\n",
    "import pandas as pd"
   ]
  },
  {
   "cell_type": "code",
   "execution_count": 0,
   "metadata": {
    "colab": {},
    "colab_type": "code",
    "id": "Td08jrOEsRmD"
   },
   "outputs": [],
   "source": [
    "train_x = pd.read_csv('/Users/wangxiang/Code/Jupyter/VGG16_Practice/pickle/x_trainData.csv', index_col=None)"
   ]
  },
  {
   "cell_type": "code",
   "execution_count": 0,
   "metadata": {
    "colab": {},
    "colab_type": "code",
    "id": "6NAj2ITfsRmF"
   },
   "outputs": [],
   "source": [
    "test_x = pd.read_csv('/Users/wangxiang/Code/Jupyter/VGG16_Practice/pickle/x_testData.csv', index_col=None)"
   ]
  },
  {
   "cell_type": "code",
   "execution_count": 0,
   "metadata": {
    "colab": {},
    "colab_type": "code",
    "id": "ULBuuXuMsRmG"
   },
   "outputs": [],
   "source": [
    "train_y = pd.read_csv('/Users/wangxiang/Code/Jupyter/VGG16_Practice/pickle/y_trainData.csv', index_col=None)"
   ]
  },
  {
   "cell_type": "code",
   "execution_count": 0,
   "metadata": {
    "colab": {},
    "colab_type": "code",
    "id": "YsDd8gFesRmH"
   },
   "outputs": [],
   "source": [
    "test_y = pd.read_csv('/Users/wangxiang/Code/Jupyter/VGG16_Practice/pickle/y_testData.csv', index_col=None)"
   ]
  },
  {
   "cell_type": "code",
   "execution_count": 0,
   "metadata": {
    "colab": {},
    "colab_type": "code",
    "id": "5U0XYgJEsRmJ"
   },
   "outputs": [],
   "source": [
    "train_x = train_x.values\n",
    "(train_x.shape)"
   ]
  },
  {
   "cell_type": "code",
   "execution_count": 0,
   "metadata": {
    "colab": {},
    "colab_type": "code",
    "id": "0H8NFUc-sRmN"
   },
   "outputs": [],
   "source": [
    "# X_train = [cv2.cvtColor(cv2.resize(i,(224,224)), cv2.COLOR_GRAY2BGR) for i in X_train]\n",
    "# X_train = np.concatenate([arr[np.newaxis] for arr in X_train]).astype('float32')\n",
    " \n",
    "# X_test  = [cv2.cvtColor(cv2.resize(i,(224,224)), cv2.COLOR_GRAY2BGR) for i in X_test ]\n",
    "# X_test  = np.concatenate([arr[np.newaxis] for arr in X_test] ).astype('float32')\n",
    "\n",
    "# print(\"X_train shape :\",X_train.shape)\n",
    "# print(\"X_test shape:\",X_test.shape)"
   ]
  },
  {
   "cell_type": "markdown",
   "metadata": {
    "colab_type": "text",
    "id": "6T4VnXB_sX6u"
   },
   "source": [
    "# **Normalize the images Section**"
   ]
  },
  {
   "cell_type": "markdown",
   "metadata": {
    "colab_type": "text",
    "id": "3TNqfcGovyqj"
   },
   "source": [
    "If you execute the following code, the accuracy will be reduced to 10%\n"
   ]
  },
  {
   "cell_type": "code",
   "execution_count": 22,
   "metadata": {
    "colab": {
     "base_uri": "https://localhost:8080/",
     "height": 0
    },
    "colab_type": "code",
    "id": "u5ulKWe3sn_w",
    "outputId": "d46cc36b-fb5c-4cf2-a9c6-113436f04b4b"
   },
   "outputs": [
    {
     "data": {
      "text/html": [
       "<p style=\"color: red;\">\n",
       "The default version of TensorFlow in Colab will soon switch to TensorFlow 2.x.<br>\n",
       "We recommend you <a href=\"https://www.tensorflow.org/guide/migrate\" target=\"_blank\">upgrade</a> now \n",
       "or ensure your notebook will continue to use TensorFlow 1.x via the <code>%tensorflow_version 1.x</code> magic:\n",
       "<a href=\"https://colab.research.google.com/notebooks/tensorflow_version.ipynb\" target=\"_blank\">more info</a>.</p>\n"
      ],
      "text/plain": [
       "<IPython.core.display.HTML object>"
      ]
     },
     "metadata": {
      "tags": []
     },
     "output_type": "display_data"
    }
   ],
   "source": [
    "from tensorflow.keras.applications.vgg16 import preprocess_input\n",
    "\n",
    "X_test = preprocess_input(X_test)\n",
    "X_train = preprocess_input(X_train)"
   ]
  },
  {
   "cell_type": "markdown",
   "metadata": {
    "colab_type": "text",
    "id": "bP89HtLosRmP"
   },
   "source": [
    "# **VGG16 from Scratch**"
   ]
  },
  {
   "cell_type": "markdown",
   "metadata": {
    "colab_type": "text",
    "id": "QEy1Ft8C5Flf"
   },
   "source": [
    "### this part using VGG16 model without weights  "
   ]
  },
  {
   "cell_type": "code",
   "execution_count": 0,
   "metadata": {
    "colab": {},
    "colab_type": "code",
    "id": "PwgnvI7ATaEz"
   },
   "outputs": [],
   "source": [
    "import os\n",
    "import keras\n",
    "from keras.models import Model\n",
    "from keras.layers import Dense,Flatten,Dropout\n",
    "from keras import datasets\n",
    "from keras.applications.vgg16 import VGG16"
   ]
  },
  {
   "cell_type": "markdown",
   "metadata": {
    "colab_type": "text",
    "id": "IDEZdn6x5VD2"
   },
   "source": [
    "Setting weights=None and layer.trainable=True,which is important"
   ]
  },
  {
   "cell_type": "code",
   "execution_count": 42,
   "metadata": {
    "colab": {
     "base_uri": "https://localhost:8080/",
     "height": 816
    },
    "colab_type": "code",
    "id": "yLMPbmXnsRmP",
    "outputId": "35e5cbd3-fb1f-4669-f8ed-6bb20fa78969"
   },
   "outputs": [
    {
     "name": "stdout",
     "output_type": "stream",
     "text": [
      "Model: \"vgg16\"\n",
      "_________________________________________________________________\n",
      "Layer (type)                 Output Shape              Param #   \n",
      "=================================================================\n",
      "input_3 (InputLayer)         (None, 128, 128, 3)       0         \n",
      "_________________________________________________________________\n",
      "block1_conv1 (Conv2D)        (None, 128, 128, 64)      1792      \n",
      "_________________________________________________________________\n",
      "block1_conv2 (Conv2D)        (None, 128, 128, 64)      36928     \n",
      "_________________________________________________________________\n",
      "block1_pool (MaxPooling2D)   (None, 64, 64, 64)        0         \n",
      "_________________________________________________________________\n",
      "block2_conv1 (Conv2D)        (None, 64, 64, 128)       73856     \n",
      "_________________________________________________________________\n",
      "block2_conv2 (Conv2D)        (None, 64, 64, 128)       147584    \n",
      "_________________________________________________________________\n",
      "block2_pool (MaxPooling2D)   (None, 32, 32, 128)       0         \n",
      "_________________________________________________________________\n",
      "block3_conv1 (Conv2D)        (None, 32, 32, 256)       295168    \n",
      "_________________________________________________________________\n",
      "block3_conv2 (Conv2D)        (None, 32, 32, 256)       590080    \n",
      "_________________________________________________________________\n",
      "block3_conv3 (Conv2D)        (None, 32, 32, 256)       590080    \n",
      "_________________________________________________________________\n",
      "block3_pool (MaxPooling2D)   (None, 16, 16, 256)       0         \n",
      "_________________________________________________________________\n",
      "block4_conv1 (Conv2D)        (None, 16, 16, 512)       1180160   \n",
      "_________________________________________________________________\n",
      "block4_conv2 (Conv2D)        (None, 16, 16, 512)       2359808   \n",
      "_________________________________________________________________\n",
      "block4_conv3 (Conv2D)        (None, 16, 16, 512)       2359808   \n",
      "_________________________________________________________________\n",
      "block4_pool (MaxPooling2D)   (None, 8, 8, 512)         0         \n",
      "_________________________________________________________________\n",
      "block5_conv1 (Conv2D)        (None, 8, 8, 512)         2359808   \n",
      "_________________________________________________________________\n",
      "block5_conv2 (Conv2D)        (None, 8, 8, 512)         2359808   \n",
      "_________________________________________________________________\n",
      "block5_conv3 (Conv2D)        (None, 8, 8, 512)         2359808   \n",
      "_________________________________________________________________\n",
      "block5_pool (MaxPooling2D)   (None, 4, 4, 512)         0         \n",
      "=================================================================\n",
      "Total params: 14,714,688\n",
      "Trainable params: 14,714,688\n",
      "Non-trainable params: 0\n",
      "_________________________________________________________________\n",
      "None\n"
     ]
    }
   ],
   "source": [
    "model = VGG16(weights=None, include_top=False, input_shape=(128,128,3), classes=257)\n",
    "for layer in model.layers:\n",
    "  layer.trainable=True\n",
    "print(model.summary())"
   ]
  },
  {
   "cell_type": "markdown",
   "metadata": {
    "colab_type": "text",
    "id": "AS_4mv2I50xG"
   },
   "source": [
    "Setting top-layer:add three Dense layer,especially the last Dense layer is softmax layer with 257 neruons to classify label"
   ]
  },
  {
   "cell_type": "code",
   "execution_count": 0,
   "metadata": {
    "colab": {},
    "colab_type": "code",
    "id": "bWJ55cMwsRmR"
   },
   "outputs": [],
   "source": [
    "from keras.layers import Flatten, Dense\n",
    "from keras.models import Model\n",
    "\n",
    "x = model.get_layer('block5_pool').output\n",
    "x = Flatten(name='flatten')(x)\n",
    "x = Dense(512, activation='relu', name='fc1')(x)\n",
    "x = Dense(4096, activation='relu', name='fc2')(x)\n",
    "x = Dense(257, activation='softmax', name='predictions')(x)\n",
    "\n",
    "model_caltech_vgg = Model(inputs=model.input, outputs=x)"
   ]
  },
  {
   "cell_type": "code",
   "execution_count": 44,
   "metadata": {
    "colab": {
     "base_uri": "https://localhost:8080/",
     "height": 935
    },
    "colab_type": "code",
    "id": "i7mfMS9Kiv8m",
    "outputId": "68f09e4e-3a35-4272-802c-cb7697f6d787"
   },
   "outputs": [
    {
     "name": "stdout",
     "output_type": "stream",
     "text": [
      "Model: \"model_3\"\n",
      "_________________________________________________________________\n",
      "Layer (type)                 Output Shape              Param #   \n",
      "=================================================================\n",
      "input_3 (InputLayer)         (None, 128, 128, 3)       0         \n",
      "_________________________________________________________________\n",
      "block1_conv1 (Conv2D)        (None, 128, 128, 64)      1792      \n",
      "_________________________________________________________________\n",
      "block1_conv2 (Conv2D)        (None, 128, 128, 64)      36928     \n",
      "_________________________________________________________________\n",
      "block1_pool (MaxPooling2D)   (None, 64, 64, 64)        0         \n",
      "_________________________________________________________________\n",
      "block2_conv1 (Conv2D)        (None, 64, 64, 128)       73856     \n",
      "_________________________________________________________________\n",
      "block2_conv2 (Conv2D)        (None, 64, 64, 128)       147584    \n",
      "_________________________________________________________________\n",
      "block2_pool (MaxPooling2D)   (None, 32, 32, 128)       0         \n",
      "_________________________________________________________________\n",
      "block3_conv1 (Conv2D)        (None, 32, 32, 256)       295168    \n",
      "_________________________________________________________________\n",
      "block3_conv2 (Conv2D)        (None, 32, 32, 256)       590080    \n",
      "_________________________________________________________________\n",
      "block3_conv3 (Conv2D)        (None, 32, 32, 256)       590080    \n",
      "_________________________________________________________________\n",
      "block3_pool (MaxPooling2D)   (None, 16, 16, 256)       0         \n",
      "_________________________________________________________________\n",
      "block4_conv1 (Conv2D)        (None, 16, 16, 512)       1180160   \n",
      "_________________________________________________________________\n",
      "block4_conv2 (Conv2D)        (None, 16, 16, 512)       2359808   \n",
      "_________________________________________________________________\n",
      "block4_conv3 (Conv2D)        (None, 16, 16, 512)       2359808   \n",
      "_________________________________________________________________\n",
      "block4_pool (MaxPooling2D)   (None, 8, 8, 512)         0         \n",
      "_________________________________________________________________\n",
      "block5_conv1 (Conv2D)        (None, 8, 8, 512)         2359808   \n",
      "_________________________________________________________________\n",
      "block5_conv2 (Conv2D)        (None, 8, 8, 512)         2359808   \n",
      "_________________________________________________________________\n",
      "block5_conv3 (Conv2D)        (None, 8, 8, 512)         2359808   \n",
      "_________________________________________________________________\n",
      "block5_pool (MaxPooling2D)   (None, 4, 4, 512)         0         \n",
      "_________________________________________________________________\n",
      "flatten (Flatten)            (None, 8192)              0         \n",
      "_________________________________________________________________\n",
      "fc1 (Dense)                  (None, 512)               4194816   \n",
      "_________________________________________________________________\n",
      "fc2 (Dense)                  (None, 4096)              2101248   \n",
      "_________________________________________________________________\n",
      "predictions (Dense)          (None, 257)               1052929   \n",
      "=================================================================\n",
      "Total params: 22,063,681\n",
      "Trainable params: 22,063,681\n",
      "Non-trainable params: 0\n",
      "_________________________________________________________________\n"
     ]
    }
   ],
   "source": [
    "model_caltech_vgg.summary()"
   ]
  },
  {
   "cell_type": "code",
   "execution_count": 0,
   "metadata": {
    "colab": {},
    "colab_type": "code",
    "id": "f0dUK1sKsRmU"
   },
   "outputs": [],
   "source": [
    "def learning_rate_schedule(epoch):\n",
    "    if epoch <= 10:\n",
    "        return 1e-4 # 0.00001\n",
    "    elif epoch <= 20:\n",
    "        return 1e-5\n",
    "    elif epoch <= 30:\n",
    "        return 1e-6\n",
    "    else:\n",
    "        return 1e-7\n",
    "    return LR"
   ]
  },
  {
   "cell_type": "code",
   "execution_count": 0,
   "metadata": {
    "colab": {},
    "colab_type": "code",
    "id": "cV9xGJ0msRmW"
   },
   "outputs": [],
   "source": [
    "from keras import optimizers\n",
    "from keras.callbacks import EarlyStopping\n"
   ]
  },
  {
   "cell_type": "markdown",
   "metadata": {
    "colab_type": "text",
    "id": "BzxpCo1C6U4A"
   },
   "source": [
    "setting epochs=30 and each batch_size=32"
   ]
  },
  {
   "cell_type": "code",
   "execution_count": 47,
   "metadata": {
    "colab": {
     "base_uri": "https://localhost:8080/",
     "height": 1000
    },
    "colab_type": "code",
    "id": "CDeudXp7sRmY",
    "outputId": "cf61d22b-89cc-46af-9fdf-13c21fba39ad"
   },
   "outputs": [
    {
     "name": "stdout",
     "output_type": "stream",
     "text": [
      "Train on 27546 samples, validate on 3061 samples\n",
      "Epoch 1/30\n",
      "27546/27546 [==============================] - 88s 3ms/step - loss: 5.2240 - acc: 0.0565 - val_loss: 4.9047 - val_acc: 0.0856\n",
      "Epoch 2/30\n",
      "27546/27546 [==============================] - 83s 3ms/step - loss: 4.6146 - acc: 0.1212 - val_loss: 4.4271 - val_acc: 0.1297\n",
      "Epoch 3/30\n",
      "27546/27546 [==============================] - 82s 3ms/step - loss: 4.1492 - acc: 0.1747 - val_loss: 4.0834 - val_acc: 0.1875\n",
      "Epoch 4/30\n",
      "27546/27546 [==============================] - 82s 3ms/step - loss: 3.7570 - acc: 0.2279 - val_loss: 3.9624 - val_acc: 0.2130\n",
      "Epoch 5/30\n",
      "27546/27546 [==============================] - 82s 3ms/step - loss: 3.3785 - acc: 0.2803 - val_loss: 3.8363 - val_acc: 0.2411\n",
      "Epoch 6/30\n",
      "27546/27546 [==============================] - 82s 3ms/step - loss: 2.9286 - acc: 0.3484 - val_loss: 3.7786 - val_acc: 0.2509\n",
      "Epoch 7/30\n",
      "27546/27546 [==============================] - 83s 3ms/step - loss: 2.3888 - acc: 0.4405 - val_loss: 3.9854 - val_acc: 0.2594\n",
      "Epoch 8/30\n",
      "27546/27546 [==============================] - 82s 3ms/step - loss: 1.7201 - acc: 0.5657 - val_loss: 4.5628 - val_acc: 0.2496\n",
      "Epoch 9/30\n",
      "27546/27546 [==============================] - 82s 3ms/step - loss: 1.0209 - acc: 0.7243 - val_loss: 5.6658 - val_acc: 0.2440\n",
      "Epoch 10/30\n",
      "27546/27546 [==============================] - 82s 3ms/step - loss: 0.5804 - acc: 0.8357 - val_loss: 6.6711 - val_acc: 0.2346\n",
      "Epoch 11/30\n",
      "27546/27546 [==============================] - 82s 3ms/step - loss: 0.3609 - acc: 0.8962 - val_loss: 7.1479 - val_acc: 0.2375\n",
      "Epoch 12/30\n",
      "27546/27546 [==============================] - 82s 3ms/step - loss: 0.2689 - acc: 0.9194 - val_loss: 7.7502 - val_acc: 0.2418\n",
      "Epoch 13/30\n",
      "27546/27546 [==============================] - 82s 3ms/step - loss: 0.2186 - acc: 0.9343 - val_loss: 8.2997 - val_acc: 0.2372\n",
      "Epoch 14/30\n",
      "27546/27546 [==============================] - 82s 3ms/step - loss: 0.1972 - acc: 0.9431 - val_loss: 7.3544 - val_acc: 0.2395\n",
      "Epoch 15/30\n",
      "27546/27546 [==============================] - 82s 3ms/step - loss: 0.1681 - acc: 0.9511 - val_loss: 8.3142 - val_acc: 0.2414\n",
      "Epoch 16/30\n",
      "27546/27546 [==============================] - 82s 3ms/step - loss: 0.1608 - acc: 0.9526 - val_loss: 8.1826 - val_acc: 0.2401\n",
      "Epoch 17/30\n",
      "27546/27546 [==============================] - 82s 3ms/step - loss: 0.1422 - acc: 0.9602 - val_loss: 8.4789 - val_acc: 0.2372\n",
      "Epoch 18/30\n",
      "27546/27546 [==============================] - 82s 3ms/step - loss: 0.1441 - acc: 0.9593 - val_loss: 7.8706 - val_acc: 0.2421\n",
      "Epoch 19/30\n",
      "27546/27546 [==============================] - 82s 3ms/step - loss: 0.1169 - acc: 0.9653 - val_loss: 8.1067 - val_acc: 0.2382\n",
      "Epoch 20/30\n",
      "27546/27546 [==============================] - 82s 3ms/step - loss: 0.1361 - acc: 0.9603 - val_loss: 8.0828 - val_acc: 0.2398\n",
      "Epoch 21/30\n",
      "27546/27546 [==============================] - 83s 3ms/step - loss: 0.1031 - acc: 0.9703 - val_loss: 8.2957 - val_acc: 0.2336\n",
      "Epoch 22/30\n",
      "27546/27546 [==============================] - 82s 3ms/step - loss: 0.1124 - acc: 0.9674 - val_loss: 8.2640 - val_acc: 0.2293\n",
      "Epoch 23/30\n",
      "27546/27546 [==============================] - 82s 3ms/step - loss: 0.1029 - acc: 0.9713 - val_loss: 8.2929 - val_acc: 0.2418\n",
      "Epoch 24/30\n",
      "27546/27546 [==============================] - 82s 3ms/step - loss: 0.0919 - acc: 0.9726 - val_loss: 8.0287 - val_acc: 0.2421\n",
      "Epoch 25/30\n",
      "27546/27546 [==============================] - 82s 3ms/step - loss: 0.0908 - acc: 0.9731 - val_loss: 8.0642 - val_acc: 0.2418\n",
      "Epoch 26/30\n",
      "27546/27546 [==============================] - 83s 3ms/step - loss: 0.0843 - acc: 0.9757 - val_loss: 8.3474 - val_acc: 0.2437\n",
      "Epoch 27/30\n",
      "27546/27546 [==============================] - 83s 3ms/step - loss: 0.0897 - acc: 0.9738 - val_loss: 8.8847 - val_acc: 0.2470\n",
      "Epoch 28/30\n",
      "27546/27546 [==============================] - 83s 3ms/step - loss: 0.0849 - acc: 0.9763 - val_loss: 8.5041 - val_acc: 0.2385\n",
      "Epoch 29/30\n",
      "27546/27546 [==============================] - 83s 3ms/step - loss: 0.0772 - acc: 0.9787 - val_loss: 8.0128 - val_acc: 0.2440\n",
      "Epoch 30/30\n",
      "27546/27546 [==============================] - 83s 3ms/step - loss: 0.0750 - acc: 0.9785 - val_loss: 8.0370 - val_acc: 0.2404\n"
     ]
    }
   ],
   "source": [
    "model_caltech_vgg.compile(\n",
    "    loss='categorical_crossentropy',\n",
    "    optimizer=optimizers.adam(lr=0.0001), metrics=['accuracy']\n",
    ")\n",
    "keras.callbacks.LearningRateScheduler(learning_rate_schedule)\n",
    "history = model_caltech_vgg.fit(\n",
    "    X_train, y_train,\n",
    "    batch_size=32, shuffle=True, epochs=30,\n",
    "    validation_data=(X_test, y_test)\n",
    ")\n",
    "    "
   ]
  },
  {
   "cell_type": "markdown",
   "metadata": {
    "colab_type": "text",
    "id": "LSn6kdoX7C6z"
   },
   "source": [
    "**By train 30 epochs the VGG16 from scratch model give me 28.29% testing accuracy**"
   ]
  },
  {
   "cell_type": "code",
   "execution_count": 31,
   "metadata": {
    "colab": {
     "base_uri": "https://localhost:8080/",
     "height": 297
    },
    "colab_type": "code",
    "id": "-NitQZv-FdN5",
    "outputId": "63409309-29ff-4548-d942-f2cb5377f2c3"
   },
   "outputs": [
    {
     "data": {
      "image/png": "[encoded data removed]",
      "text/plain": [
       "<Figure size 432x288 with 2 Axes>"
      ]
     },
     "metadata": {
      "tags": []
     },
     "output_type": "display_data"
    }
   ],
   "source": [
    "import matplotlib.pyplot as plt\n",
    "import numpy as np\n",
    "\n",
    "plt.subplot(1, 2, 1)\n",
    "plt.plot(history.history['acc'])\n",
    "plt.legend(['train'], loc='lower right')\n",
    "\n",
    "plt.subplot(1, 2, 2)\n",
    "plt.plot(history.history['val_acc'])\n",
    "plt.legend(['test'], loc='lower right')\n",
    "\n",
    "plt.tight_layout() \n",
    "\n",
    "plt.show()\n",
    "\n"
   ]
  },
  {
   "cell_type": "markdown",
   "metadata": {
    "colab_type": "text",
    "id": "tMarYCr9sRma"
   },
   "source": [
    "# **VGG16 Pre-trained**"
   ]
  },
  {
   "cell_type": "markdown",
   "metadata": {
    "colab_type": "text",
    "id": "8mLfAEM07VQ1"
   },
   "source": [
    "this part using VGG16 pre-trained model and run 3 times"
   ]
  },
  {
   "cell_type": "code",
   "execution_count": 32,
   "metadata": {
    "colab": {
     "base_uri": "https://localhost:8080/",
     "height": 816
    },
    "colab_type": "code",
    "id": "tFJMFRzJsRmb",
    "outputId": "1741e180-6546-483e-db58-cac41581d2f4"
   },
   "outputs": [
    {
     "name": "stdout",
     "output_type": "stream",
     "text": [
      "Model: \"vgg16\"\n",
      "_________________________________________________________________\n",
      "Layer (type)                 Output Shape              Param #   \n",
      "=================================================================\n",
      "input_2 (InputLayer)         (None, 128, 128, 3)       0         \n",
      "_________________________________________________________________\n",
      "block1_conv1 (Conv2D)        (None, 128, 128, 64)      1792      \n",
      "_________________________________________________________________\n",
      "block1_conv2 (Conv2D)        (None, 128, 128, 64)      36928     \n",
      "_________________________________________________________________\n",
      "block1_pool (MaxPooling2D)   (None, 64, 64, 64)        0         \n",
      "_________________________________________________________________\n",
      "block2_conv1 (Conv2D)        (None, 64, 64, 128)       73856     \n",
      "_________________________________________________________________\n",
      "block2_conv2 (Conv2D)        (None, 64, 64, 128)       147584    \n",
      "_________________________________________________________________\n",
      "block2_pool (MaxPooling2D)   (None, 32, 32, 128)       0         \n",
      "_________________________________________________________________\n",
      "block3_conv1 (Conv2D)        (None, 32, 32, 256)       295168    \n",
      "_________________________________________________________________\n",
      "block3_conv2 (Conv2D)        (None, 32, 32, 256)       590080    \n",
      "_________________________________________________________________\n",
      "block3_conv3 (Conv2D)        (None, 32, 32, 256)       590080    \n",
      "_________________________________________________________________\n",
      "block3_pool (MaxPooling2D)   (None, 16, 16, 256)       0         \n",
      "_________________________________________________________________\n",
      "block4_conv1 (Conv2D)        (None, 16, 16, 512)       1180160   \n",
      "_________________________________________________________________\n",
      "block4_conv2 (Conv2D)        (None, 16, 16, 512)       2359808   \n",
      "_________________________________________________________________\n",
      "block4_conv3 (Conv2D)        (None, 16, 16, 512)       2359808   \n",
      "_________________________________________________________________\n",
      "block4_pool (MaxPooling2D)   (None, 8, 8, 512)         0         \n",
      "_________________________________________________________________\n",
      "block5_conv1 (Conv2D)        (None, 8, 8, 512)         2359808   \n",
      "_________________________________________________________________\n",
      "block5_conv2 (Conv2D)        (None, 8, 8, 512)         2359808   \n",
      "_________________________________________________________________\n",
      "block5_conv3 (Conv2D)        (None, 8, 8, 512)         2359808   \n",
      "_________________________________________________________________\n",
      "block5_pool (MaxPooling2D)   (None, 4, 4, 512)         0         \n",
      "=================================================================\n",
      "Total params: 14,714,688\n",
      "Trainable params: 0\n",
      "Non-trainable params: 14,714,688\n",
      "_________________________________________________________________\n",
      "None\n"
     ]
    }
   ],
   "source": [
    "model = VGG16(weights='imagenet', include_top=False, input_shape=(128,128,3), classes=257)\n",
    "\n",
    "for layer in model.layers:\n",
    "    layer.trainable = False\n",
    "print(model.summary())"
   ]
  },
  {
   "cell_type": "markdown",
   "metadata": {
    "colab_type": "text",
    "id": "sD2QS02V7kew"
   },
   "source": [
    "Setting top layer : three Dense layer and last layer is softmax layer"
   ]
  },
  {
   "cell_type": "code",
   "execution_count": 0,
   "metadata": {
    "colab": {},
    "colab_type": "code",
    "id": "PDP1SDQ7sRme"
   },
   "outputs": [],
   "source": [
    "from keras.layers import Flatten, Dense\n",
    "from keras.models import Model\n",
    "\n",
    "x = model.get_layer('block5_pool').output\n",
    "x = Flatten(name='flatten')(x)\n",
    "x = Dense(512, activation='relu', name='fc1')(x)\n",
    "x = Dense(4096, activation='relu', name='fc2')(x)\n",
    "x = Dense(257, activation='softmax', name='predictions')(x)\n",
    "model_updated = Model(inputs=model.input, outputs=x)\n",
    "#model_caltech_vgg_pre = Model(inputs=model.input, outputs=x)"
   ]
  },
  {
   "cell_type": "code",
   "execution_count": 0,
   "metadata": {
    "colab": {},
    "colab_type": "code",
    "id": "inxVSo_QsRmf"
   },
   "outputs": [],
   "source": [
    "def learning_rate_schedule(epoch):\n",
    "    if epoch <= 10:\n",
    "        return 1e-4 # 0.00001\n",
    "    elif epoch <= 20:\n",
    "        return 1e-5\n",
    "    elif epoch <= 30:\n",
    "        return 1e-6\n",
    "    else:\n",
    "        return 1e-7\n",
    "    return LR"
   ]
  },
  {
   "cell_type": "markdown",
   "metadata": {
    "colab_type": "text",
    "id": "LLEWTfsz73Es"
   },
   "source": [
    "save weights for each time"
   ]
  },
  {
   "cell_type": "code",
   "execution_count": 0,
   "metadata": {
    "colab": {},
    "colab_type": "code",
    "id": "mW-BBamhtUxE"
   },
   "outputs": [],
   "source": [
    "model_updated.save_weights('model_caltech_initial.h5')"
   ]
  },
  {
   "cell_type": "code",
   "execution_count": 0,
   "metadata": {
    "colab": {},
    "colab_type": "code",
    "id": "3SPYsE0TsRmh"
   },
   "outputs": [],
   "source": [
    "from keras import optimizers\n",
    "from keras.callbacks import EarlyStopping"
   ]
  },
  {
   "cell_type": "code",
   "execution_count": 39,
   "metadata": {
    "colab": {
     "base_uri": "https://localhost:8080/",
     "height": 1000
    },
    "colab_type": "code",
    "id": "nVVSCTH8tbMG",
    "outputId": "603b75c7-a32d-4d03-8436-95aa9b3900b1"
   },
   "outputs": [
    {
     "name": "stdout",
     "output_type": "stream",
     "text": [
      "Train on 27546 samples, validate on 3061 samples\n",
      "Epoch 1/10\n",
      "27546/27546 [==============================] - 38s 1ms/step - loss: 0.0036 - acc: 0.1293 - val_loss: 0.0034 - val_acc: 0.1973\n",
      "Epoch 2/10\n",
      "27546/27546 [==============================] - 35s 1ms/step - loss: 0.0031 - acc: 0.3033 - val_loss: 0.0029 - val_acc: 0.3728\n",
      "Epoch 3/10\n",
      "27546/27546 [==============================] - 35s 1ms/step - loss: 0.0026 - acc: 0.4542 - val_loss: 0.0025 - val_acc: 0.4655\n",
      "Epoch 4/10\n",
      "27546/27546 [==============================] - 35s 1ms/step - loss: 0.0022 - acc: 0.5458 - val_loss: 0.0024 - val_acc: 0.4959\n",
      "Epoch 5/10\n",
      "27546/27546 [==============================] - 35s 1ms/step - loss: 0.0019 - acc: 0.6105 - val_loss: 0.0022 - val_acc: 0.5407\n",
      "Epoch 6/10\n",
      "27546/27546 [==============================] - 35s 1ms/step - loss: 0.0017 - acc: 0.6597 - val_loss: 0.0022 - val_acc: 0.5534\n",
      "Epoch 7/10\n",
      "27546/27546 [==============================] - 35s 1ms/step - loss: 0.0015 - acc: 0.6986 - val_loss: 0.0022 - val_acc: 0.5616\n",
      "Epoch 8/10\n",
      "27546/27546 [==============================] - 35s 1ms/step - loss: 0.0013 - acc: 0.7338 - val_loss: 0.0022 - val_acc: 0.5583\n",
      "Epoch 9/10\n",
      "27546/27546 [==============================] - 35s 1ms/step - loss: 0.0012 - acc: 0.7620 - val_loss: 0.0022 - val_acc: 0.5691\n",
      "Epoch 10/10\n",
      "27546/27546 [==============================] - 35s 1ms/step - loss: 0.0011 - acc: 0.7874 - val_loss: 0.0021 - val_acc: 0.5773\n",
      "\n",
      "Train on 27546 samples, validate on 3061 samples\n",
      "Epoch 1/10\n",
      "27546/27546 [==============================] - 37s 1ms/step - loss: 0.0036 - acc: 0.1350 - val_loss: 0.0034 - val_acc: 0.2078\n",
      "Epoch 2/10\n",
      "27546/27546 [==============================] - 34s 1ms/step - loss: 0.0031 - acc: 0.3099 - val_loss: 0.0029 - val_acc: 0.3665\n",
      "Epoch 3/10\n",
      "27546/27546 [==============================] - 33s 1ms/step - loss: 0.0025 - acc: 0.4573 - val_loss: 0.0026 - val_acc: 0.4721\n",
      "Epoch 4/10\n",
      "27546/27546 [==============================] - 33s 1ms/step - loss: 0.0022 - acc: 0.5517 - val_loss: 0.0024 - val_acc: 0.5051\n",
      "Epoch 5/10\n",
      "27546/27546 [==============================] - 33s 1ms/step - loss: 0.0019 - acc: 0.6150 - val_loss: 0.0023 - val_acc: 0.5201\n",
      "Epoch 6/10\n",
      "27546/27546 [==============================] - 33s 1ms/step - loss: 0.0017 - acc: 0.6646 - val_loss: 0.0022 - val_acc: 0.5524\n",
      "Epoch 7/10\n",
      "27546/27546 [==============================] - 34s 1ms/step - loss: 0.0015 - acc: 0.7020 - val_loss: 0.0022 - val_acc: 0.5449\n",
      "Epoch 8/10\n",
      "27546/27546 [==============================] - 35s 1ms/step - loss: 0.0013 - acc: 0.7356 - val_loss: 0.0022 - val_acc: 0.5603\n",
      "Epoch 9/10\n",
      "27546/27546 [==============================] - 34s 1ms/step - loss: 0.0012 - acc: 0.7667 - val_loss: 0.0022 - val_acc: 0.5590\n",
      "Epoch 10/10\n",
      "27546/27546 [==============================] - 33s 1ms/step - loss: 0.0011 - acc: 0.7900 - val_loss: 0.0022 - val_acc: 0.5678\n",
      "\n",
      "Train on 27546 samples, validate on 3061 samples\n",
      "Epoch 1/10\n",
      "27546/27546 [==============================] - 38s 1ms/step - loss: 0.0036 - acc: 0.1298 - val_loss: 0.0034 - val_acc: 0.1931\n",
      "Epoch 2/10\n",
      "27546/27546 [==============================] - 35s 1ms/step - loss: 0.0031 - acc: 0.3035 - val_loss: 0.0029 - val_acc: 0.3662\n",
      "Epoch 3/10\n",
      "27546/27546 [==============================] - 35s 1ms/step - loss: 0.0026 - acc: 0.4511 - val_loss: 0.0025 - val_acc: 0.4750\n",
      "Epoch 4/10\n",
      "27546/27546 [==============================] - 35s 1ms/step - loss: 0.0022 - acc: 0.5441 - val_loss: 0.0024 - val_acc: 0.5041\n",
      "Epoch 5/10\n",
      "27546/27546 [==============================] - 35s 1ms/step - loss: 0.0019 - acc: 0.6093 - val_loss: 0.0023 - val_acc: 0.5361\n",
      "Epoch 6/10\n",
      "27546/27546 [==============================] - 35s 1ms/step - loss: 0.0017 - acc: 0.6622 - val_loss: 0.0022 - val_acc: 0.5377\n",
      "Epoch 7/10\n",
      "27546/27546 [==============================] - 35s 1ms/step - loss: 0.0015 - acc: 0.7003 - val_loss: 0.0022 - val_acc: 0.5550\n",
      "Epoch 8/10\n",
      "27546/27546 [==============================] - 35s 1ms/step - loss: 0.0013 - acc: 0.7335 - val_loss: 0.0022 - val_acc: 0.5658\n",
      "Epoch 9/10\n",
      "27546/27546 [==============================] - 35s 1ms/step - loss: 0.0012 - acc: 0.7620 - val_loss: 0.0022 - val_acc: 0.5691\n",
      "Epoch 10/10\n",
      "27546/27546 [==============================] - 35s 1ms/step - loss: 0.0011 - acc: 0.7877 - val_loss: 0.0022 - val_acc: 0.5596\n",
      "\n"
     ]
    }
   ],
   "source": [
    "model_updated.save_weights('model_caltech_initial.h5')\n",
    "training_runs = []\n",
    "for i in range(3):\n",
    "    #model_updated.compile(loss='categorical_crossentropy', optimizer='sgd', metrics=['accuracy'])\n",
    "    model_updated.compile(loss='mean_squared_error', optimizer=optimizers.adam(lr=0.0001), metrics=['accuracy'])\n",
    "    keras.callbacks.LearningRateScheduler(learning_rate_schedule)\n",
    "    history = model_updated.fit(X_train, y_train, batch_size=32,shuffle=True, verbose=1, epochs=10, validation_data=(X_test, y_test))\n",
    "    training_runs.append(history)\n",
    "    model_updated.get_weights()\n",
    "    if i == 2:\n",
    "        model_updated.save_weights('model1.h5')\n",
    "    else:\n",
    "        model_updated.load_weights('model_caltech_initial.h5')\n",
    "    print()"
   ]
  },
  {
   "cell_type": "code",
   "execution_count": 40,
   "metadata": {
    "colab": {
     "base_uri": "https://localhost:8080/",
     "height": 331
    },
    "colab_type": "code",
    "id": "8X6eHpaKGpzu",
    "outputId": "f5cac150-7e72-402b-cfe8-cc6b1891e032"
   },
   "outputs": [
    {
     "data": {
      "image/png": "[encoded data removed]",
      "text/plain": [
       "<Figure size 432x288 with 6 Axes>"
      ]
     },
     "metadata": {
      "tags": []
     },
     "output_type": "display_data"
    },
    {
     "name": "stdout",
     "output_type": "stream",
     "text": [
      "Average training accuracy: 0.7883661269576123\n",
      "Average testing accuracy: 0.5682238921106063\n"
     ]
    }
   ],
   "source": [
    "import matplotlib.pyplot as plt\n",
    "import numpy as np\n",
    "\n",
    "plt.subplot(2, 3, 1)\n",
    "plt.plot(training_runs[0].history['acc'])\n",
    "plt.legend(['train'], loc='lower right')\n",
    "\n",
    "plt.subplot(2, 3, 2)\n",
    "plt.plot(training_runs[1].history['acc'])\n",
    "plt.legend(['train'], loc='lower right')\n",
    "\n",
    "plt.subplot(2, 3, 3)\n",
    "plt.plot(training_runs[2].history['acc'])\n",
    "plt.legend(['train'], loc='lower right')\n",
    "\n",
    "plt.subplot(2, 3, 4)\n",
    "plt.plot(training_runs[0].history['val_acc'])\n",
    "plt.legend(['test'], loc='lower right')\n",
    "\n",
    "plt.subplot(2, 3, 5)\n",
    "plt.plot(training_runs[1].history['val_acc'])\n",
    "plt.legend(['test'], loc='lower right')\n",
    "\n",
    "plt.subplot(2, 3, 6)\n",
    "plt.plot(training_runs[2].history['val_acc'])\n",
    "plt.legend(['test'], loc='lower right')\n",
    "\n",
    "plt.tight_layout() \n",
    "\n",
    "plt.show()\n",
    "\n",
    "print(\"Average training accuracy: {}\".format(np.mean([training_runs[0].history['acc'][-1], \n",
    "                                                     training_runs[1].history['acc'][-1], training_runs[2].history['acc'][-1]])))\n",
    "print(\"Average testing accuracy: {}\".format(np.mean([training_runs[0].history['val_acc'][-1], \n",
    "                                                     training_runs[1].history['val_acc'][-1], training_runs[2].history['val_acc'][-1]])))"
   ]
  },
  {
   "cell_type": "markdown",
   "metadata": {
    "colab_type": "text",
    "id": "qX1E_mfR92X-"
   },
   "source": [
    "**By Using pre trained model run three times ,The best tesing accuracy performace for each run time is : 56.39% 55.90% 55.05% and average testing accuracy is 55.77%**"
   ]
  }
 ],
 "metadata": {
  "accelerator": "GPU",
  "colab": {
   "collapsed_sections": [
    "6T4VnXB_sX6u"
   ],
   "machine_shape": "hm",
   "name": "VGG_Caltech.ipynb",
   "provenance": [],
   "toc_visible": true
  },
  "kernelspec": {
   "display_name": "Python 3",
   "language": "python",
   "name": "python3"
  },
  "language_info": {
   "codemirror_mode": {
    "name": "ipython",
    "version": 3
   },
   "file_extension": ".py",
   "mimetype": "text/x-python",
   "name": "python",
   "nbconvert_exporter": "python",
   "pygments_lexer": "ipython3",
   "version": "3.6.7"
  }
 },
 "nbformat": 4,
 "nbformat_minor": 1
}
